{
 "cells": [
  {
   "cell_type": "code",
   "execution_count": null,
   "id": "b338b1b1",
   "metadata": {},
   "outputs": [],
   "source": [
    "!pip install pandas numpy scikit-learn"
   ]
  },
  {
   "cell_type": "code",
   "execution_count": null,
   "id": "42dd5d5d",
   "metadata": {},
   "outputs": [],
   "source": [
    "import numpy as np\n",
    "import pandas as pd\n",
    "from sklearn.datasets import load_iris\n",
    "\n",
    "# Load the Iris dataset\n",
    "iris = load_iris()\n",
    "df = pd.DataFrame(iris.data, columns=iris.feature_names)\n",
    "\n",
    "print(\"📊 First 5 Rows of the Dataset:\\n\")\n",
    "print(df.head())\n",
    "\n",
    "# ------------------------ 1. Compute Standard Deviation ------------------------\n",
    "print(\"\\n📐 Standard Deviations of Each Feature:\\n\")\n",
    "std_devs = df.std()\n",
    "print(std_devs)\n",
    "\n",
    "# ------------------------ 2. Justify Spread ------------------------\n",
    "print(\"\\n📌 Justification of Spread:\")\n",
    "max_spread_feature = std_devs.idxmax()\n",
    "max_spread_value = std_devs.max()\n",
    "\n",
    "print(f\"The feature with the largest spread is **'{max_spread_feature}'** with a standard deviation of {max_spread_value:.2f}.\")\n",
    "print(\"This means it varies more widely compared to other features in the dataset.\")\n",
    "\n",
    "# ------------------------ 3. Compute Covariance Matrix ------------------------\n",
    "print(\"\\n📈 Covariance Matrix:\\n\")\n",
    "cov_matrix = df.cov()\n",
    "print(cov_matrix)\n"
   ]
  }
 ],
 "metadata": {
  "kernelspec": {
   "display_name": "Python 3",
   "language": "python",
   "name": "python3"
  },
  "language_info": {
   "codemirror_mode": {
    "name": "ipython",
    "version": 3
   },
   "file_extension": ".py",
   "mimetype": "text/x-python",
   "name": "python",
   "nbconvert_exporter": "python",
   "pygments_lexer": "ipython3",
   "version": "3.9.21"
  }
 },
 "nbformat": 4,
 "nbformat_minor": 5
}
