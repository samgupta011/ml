{
 "cells": [
  {
   "cell_type": "code",
   "execution_count": null,
   "id": "5fd41456",
   "metadata": {},
   "outputs": [],
   "source": [
    "!pip install pandas numpy scikit-learn matplotlib"
   ]
  },
  {
   "cell_type": "code",
   "execution_count": null,
   "id": "ff06a468",
   "metadata": {},
   "outputs": [],
   "source": [
    "# Import necessary libraries\n",
    "import pandas as pd\n",
    "import numpy as np\n",
    "from sklearn.datasets import fetch_california_housing\n",
    "from sklearn.linear_model import LinearRegression\n",
    "from sklearn.model_selection import train_test_split\n",
    "from sklearn.metrics import mean_squared_error, r2_score\n",
    "import matplotlib.pyplot as plt\n",
    "\n",
    "# Step 1: Load the California Housing Dataset\n",
    "california = fetch_california_housing()\n",
    "df = pd.DataFrame(california.data, columns=california.feature_names)\n",
    "df['Target'] = california.target\n",
    "\n",
    "# Step 2: Display dataset info\n",
    "print(\"🔍 Dataset Preview:\")\n",
    "print(df.head())\n",
    "print(\"\\n📊 Dataset Summary:\")\n",
    "print(df.describe())\n",
    "\n",
    "# Step 3: Select Features and Target\n",
    "X = df.drop('Target', axis=1)  # Independent variables\n",
    "y = df['Target']              # Dependent variable (house value)\n",
    "\n",
    "# Step 4: Split the data\n",
    "X_train, X_test, y_train, y_test = train_test_split(X, y, test_size=0.2, random_state=42)\n",
    "\n",
    "# Step 5: Train Linear Regression Model\n",
    "model = LinearRegression()\n",
    "model.fit(X_train, y_train)\n",
    "\n",
    "# Step 6: Predict on test data\n",
    "y_pred = model.predict(X_test)\n",
    "\n",
    "# Step 7: Evaluation\n",
    "r2 = r2_score(y_test, y_pred)\n",
    "mse = mean_squared_error(y_test, y_pred)\n",
    "rmse = np.sqrt(mse)\n",
    "\n",
    "print(f\"\\n📈 R² Score: {r2:.4f}\")\n",
    "print(f\"🧮 Mean Squared Error: {mse:.4f}\")\n",
    "print(f\"📉 Root Mean Squared Error: {rmse:.4f}\")\n",
    "\n",
    "# Step 8: Plotting Actual vs Predicted\n",
    "plt.figure(figsize=(8, 6))\n",
    "plt.scatter(y_test, y_pred, alpha=0.3, color='blue')\n",
    "plt.plot([y.min(), y.max()], [y.min(), y.max()], 'r--', lw=2)\n",
    "plt.xlabel(\"Actual Target Values\")\n",
    "plt.ylabel(\"Predicted Values\")\n",
    "plt.title(\"Actual vs Predicted Values\")\n",
    "plt.grid(True)\n",
    "plt.show()\n"
   ]
  }
 ],
 "metadata": {
  "kernelspec": {
   "display_name": "Python 3",
   "language": "python",
   "name": "python3"
  },
  "language_info": {
   "codemirror_mode": {
    "name": "ipython",
    "version": 3
   },
   "file_extension": ".py",
   "mimetype": "text/x-python",
   "name": "python",
   "nbconvert_exporter": "python",
   "pygments_lexer": "ipython3",
   "version": "3.9.21"
  }
 },
 "nbformat": 4,
 "nbformat_minor": 5
}
