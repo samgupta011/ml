{
 "cells": [
  {
   "cell_type": "code",
   "execution_count": null,
   "id": "5fd41456",
   "metadata": {},
   "outputs": [],
   "source": [
    "!pip install numpy pandas matplotlib seaborn scikit-learn"
   ]
  },
  {
   "cell_type": "code",
   "execution_count": null,
   "id": "ff06a468",
   "metadata": {},
   "outputs": [],
   "source": [
    "# Step 1: Import necessary libraries\n",
    "import numpy as np\n",
    "import pandas as pd\n",
    "import matplotlib.pyplot as plt\n",
    "import seaborn as sns\n",
    "from sklearn.datasets import load_iris\n",
    "from sklearn.preprocessing import StandardScaler\n",
    "from sklearn.decomposition import PCA\n",
    "\n",
    "# Step 2: Load the Iris dataset\n",
    "iris = load_iris()\n",
    "X = iris.data\n",
    "y = iris.target\n",
    "target_names = iris.target_names\n",
    "\n",
    "# Step 3: Standardize the data\n",
    "scaler = StandardScaler()\n",
    "X_scaled = scaler.fit_transform(X)\n",
    "\n",
    "# Step 4: Apply PCA\n",
    "pca = PCA(n_components=2)  # Reduce to 2 components for visualization\n",
    "X_pca = pca.fit_transform(X_scaled)\n",
    "\n",
    "# Step 5: Create a DataFrame with PCA components\n",
    "df_pca = pd.DataFrame(data=X_pca, columns=[\"PC1\", \"PC2\"])\n",
    "df_pca[\"target\"] = y\n",
    "\n",
    "# Step 6: Visualize the PCA result\n",
    "plt.figure(figsize=(8, 6))\n",
    "sns.scatterplot(x=\"PC1\", y=\"PC2\", hue=\"target\", palette=\"Set1\", data=df_pca)\n",
    "plt.title(\"PCA of Iris Dataset\")\n",
    "plt.xlabel(\"Principal Component 1\")\n",
    "plt.ylabel(\"Principal Component 2\")\n",
    "plt.legend(title=\"Target\", labels=target_names)\n",
    "plt.grid(True)\n",
    "plt.show()\n",
    "\n",
    "# Step 7: Explained variance\n",
    "print(\"Explained Variance Ratio by each component:\")\n",
    "print(pca.explained_variance_ratio_)\n"
   ]
  }
 ],
 "metadata": {
  "kernelspec": {
   "display_name": "Python 3",
   "language": "python",
   "name": "python3"
  },
  "language_info": {
   "codemirror_mode": {
    "name": "ipython",
    "version": 3
   },
   "file_extension": ".py",
   "mimetype": "text/x-python",
   "name": "python",
   "nbconvert_exporter": "python",
   "pygments_lexer": "ipython3",
   "version": "3.9.21"
  }
 },
 "nbformat": 4,
 "nbformat_minor": 5
}
