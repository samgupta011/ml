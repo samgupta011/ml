{
 "cells": [
  {
   "cell_type": "code",
   "execution_count": null,
   "id": "c1e0dae0",
   "metadata": {},
   "outputs": [],
   "source": [
    "!pip install pandas numpy seaborn scikit-learn"
   ]
  },
  {
   "cell_type": "code",
   "execution_count": null,
   "id": "5af58ddc",
   "metadata": {},
   "outputs": [],
   "source": [
    "import pandas as pd\n",
    "import numpy as np\n",
    "import seaborn as sns\n",
    "from sklearn.preprocessing import MinMaxScaler, KBinsDiscretizer\n",
    "\n",
    "df = sns.load_dataset('titanic')\n",
    "\n",
    "print(\"Basic Dataset Information:\\n\")\n",
    "print(df.info())\n",
    "print(\"\\n First 5 Rows:\\n\", df.head())\n",
    "print(\"\\n Summary Statistics:\\n\", df.describe(include='all'))\n",
    "\n",
    "print(\"\\n🔍 Columns with Missing Values:\\n\", df.isnull().sum())\n",
    "df_cleaned = df.drop(columns=['deck'])\n",
    "df_cleaned['age'].fillna(df['age'].median(), inplace=True)\n",
    "df_cleaned['embarked'].fillna(df['embarked'].mode()[0], inplace=True)\n",
    "df_cleaned.dropna(inplace=True)\n",
    "print(\"\\n✅ After Handling Missing Values:\\n\", df_cleaned.isnull().sum())\n",
    "\n",
    "\n",
    "print(\"\\n📊 Handling Continuous Variables:\")\n",
    "scaler = MinMaxScaler()\n",
    "df_cleaned[['age_norm', 'fare_norm']] = scaler.fit_transform(df_cleaned[['age', 'fare']])\n",
    "print(\"\\nNormalized Age and Fare (0 to 1):\\n\", df_cleaned[['age_norm', 'fare_norm']].head())\n",
    "\n",
    "kbin = KBinsDiscretizer(n_bins=4, encode='ordinal', strategy='uniform')\n",
    "df_cleaned['age_binned'] = kbin.fit_transform(df_cleaned[['age']])\n",
    "print(\"\\nBinned Age Categories:\\n\", df_cleaned[['age', 'age_binned']].head())\n",
    "\n",
    "\n",
    "print(\"\\n✅ Final Cleaned Data Sample:\\n\", df_cleaned.head())"
   ]
  }
 ],
 "metadata": {
  "kernelspec": {
   "display_name": "Python 3",
   "language": "python",
   "name": "python3"
  },
  "language_info": {
   "codemirror_mode": {
    "name": "ipython",
    "version": 3
   },
   "file_extension": ".py",
   "mimetype": "text/x-python",
   "name": "python",
   "nbconvert_exporter": "python",
   "pygments_lexer": "ipython3",
   "version": "3.9.21"
  }
 },
 "nbformat": 4,
 "nbformat_minor": 5
}
